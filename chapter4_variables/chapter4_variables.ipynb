{
 "cells": [
  {
   "cell_type": "markdown",
   "metadata": {},
   "source": [
    "# Python Variables"
   ]
  },
  {
   "cell_type": "markdown",
   "metadata": {},
   "source": [
    "## What Are Variables?"
   ]
  },
  {
   "cell_type": "code",
   "execution_count": null,
   "metadata": {},
   "outputs": [],
   "source": [
    "# Numbers\n",
    "age = 25\n",
    "\n",
    "# Strings\n",
    "name = \"Alice\"\n",
    "\n",
    "# Lists\n",
    "fruits = [\"apple\", \"banana\", \"orange\"]\n",
    "\n",
    "# Dictionaries\n",
    "student = {\"name\": \"Bob\", \"age\": 20, \"grades\": [85, 90, 88]}\n",
    "\n",
    "# Sets\n",
    "unique_numbers = {1, 2, 3, 4, 5}\n",
    "\n",
    "# Tuples\n",
    "coordinates = (10, 20)"
   ]
  },
  {
   "cell_type": "markdown",
   "metadata": {},
   "source": [
    "## Choose the Right Python Collection"
   ]
  },
  {
   "cell_type": "markdown",
   "metadata": {},
   "source": [
    "### Lists: Ordered, Mutable Sequences"
   ]
  },
  {
   "cell_type": "code",
   "execution_count": null,
   "metadata": {},
   "outputs": [],
   "source": [
    "# List of daily temperatures\n",
    "temperatures = [72.5, 73.1, 71.8, 74.2, 73.5]\n",
    "\n",
    "# Add a new temperature\n",
    "temperatures.append(72.9)\n",
    "\n",
    "# Access temperature by position\n",
    "print(f\"Temperature on day 3: {temperatures[2]}°F\")\n",
    "\n",
    "# Modify a temperature\n",
    "temperatures[0] = 73.0"
   ]
  },
  {
   "cell_type": "markdown",
   "metadata": {},
   "source": [
    "### Tuples: Ordered, Immutable Sequences"
   ]
  },
  {
   "cell_type": "code",
   "execution_count": null,
   "metadata": {},
   "outputs": [],
   "source": [
    "# Tuple of coordinates\n",
    "point = (10, 20)\n",
    "\n",
    "# Can't modify coordinates\n",
    "try:\n",
    "    point[0] = 15  # This will raise an error\n",
    "except TypeError as e:\n",
    "    print(f\"Error: {e}\")\n",
    "\n",
    "# Can be used as a dictionary key\n",
    "points = {\n",
    "    (10, 20): \"Point A\",\n",
    "    (30, 40): \"Point B\",\n",
    "}"
   ]
  },
  {
   "cell_type": "markdown",
   "metadata": {},
   "source": [
    "### Sets: Unordered, Mutable Collections of Unique Elements"
   ]
  },
  {
   "cell_type": "code",
   "execution_count": null,
   "metadata": {},
   "outputs": [],
   "source": [
    "# Set of unique visitors\n",
    "visitors = {\"user1\", \"user2\", \"user3\"}\n",
    "\n",
    "# Add a new visitor\n",
    "visitors.add(\"user4\")\n",
    "\n",
    "# Check if a user has visited\n",
    "print(f\"Has user1 visited?: {'user1' in visitors}\")\n",
    "\n",
    "# Remove duplicates from a list\n",
    "all_visits = [\"user1\", \"user2\", \"user1\", \"user3\", \"user2\"]\n",
    "unique_visitors = set(all_visits)\n",
    "print(f\"Unique visitors: {unique_visitors}\")"
   ]
  },
  {
   "cell_type": "markdown",
   "metadata": {},
   "source": [
    "### Dictionaries: Key-Value Pairs"
   ]
  },
  {
   "cell_type": "code",
   "execution_count": null,
   "metadata": {},
   "outputs": [],
   "source": [
    "# Dictionary of user information\n",
    "user = {\n",
    "    \"name\": \"John\",\n",
    "    \"age\": 30,\n",
    "    \"email\": \"john@example.com\"\n",
    "}\n",
    "\n",
    "# Access information by key\n",
    "print(f\"User's name: {user['name']}\")\n",
    "\n",
    "# Update information\n",
    "user[\"age\"] = 31\n",
    "\n",
    "# Add new information\n",
    "user[\"location\"] = \"New York\""
   ]
  },
  {
   "cell_type": "markdown",
   "metadata": {},
   "source": [
    "## Best Practices for Python Variables"
   ]
  },
  {
   "cell_type": "markdown",
   "metadata": {},
   "source": [
    "### Use Descriptive Variable Names"
   ]
  },
  {
   "cell_type": "code",
   "execution_count": null,
   "metadata": {},
   "outputs": [],
   "source": [
    "import pandas as pd\n",
    "\n",
    "# Create a sample DataFrame with log-transformed features\n",
    "df = pd.DataFrame(\n",
    "    {\n",
    "        \"LotFrontage_log\": [7.5, 7.8, 7.2, 7.9, 7.4],\n",
    "        \"GrLivArea_log\": [7.2, 7.5, 7.1, 7.6, 7.3],\n",
    "    }\n",
    ")"
   ]
  },
  {
   "cell_type": "code",
   "execution_count": null,
   "metadata": {},
   "outputs": [],
   "source": [
    "def squares(df, ls):\n",
    "    m = df.shape[1]\n",
    "    for l in ls:\n",
    "        df = df.assign(newcol=pd.Series(df[l]*df[l]).values)\n",
    "        df.columns.values[m] = l + '_sq'\n",
    "        m += 1\n",
    "    return df\n",
    "\n",
    "squared_features = ['LotFrontage_log',  'GrLivArea_log']\n",
    "\n",
    "df = squares(df, squared_features)"
   ]
  },
  {
   "cell_type": "code",
   "execution_count": null,
   "metadata": {},
   "outputs": [],
   "source": [
    "import pandas as pd\n",
    "\n",
    "# Create a sample DataFrame with log-transformed features\n",
    "df = pd.DataFrame(\n",
    "    {\n",
    "        \"LotFrontage_log\": [7.5, 7.8, 7.2, 7.9, 7.4],\n",
    "        \"GrLivArea_log\": [7.2, 7.5, 7.1, 7.6, 7.3],\n",
    "    }\n",
    ")"
   ]
  },
  {
   "cell_type": "markdown",
   "metadata": {},
   "source": [
    "### Avoid Reserved Keywords"
   ]
  },
  {
   "cell_type": "code",
   "execution_count": null,
   "metadata": {},
   "outputs": [],
   "source": [
    "import pandas as pd\n",
    "\n",
    "data = {\n",
    "    'Class_ID': ['MATH101', 'ENG201', 'PHYS301'],\n",
    "    'Subject': ['Mathematics', 'English', 'Physics'],\n",
    "    'Instructor': ['Dr. Smith', 'Prof. Johnson', 'Dr. Brown'],\n",
    "    'Room': ['A101', 'B205', 'C303'],\n",
    "    'Max_Students': [30, 25, 20]\n",
    "}\n",
    "\n",
    "df = pd.DataFrame(data)\n",
    "df.to_csv(\"data/classes.csv\", index=False)"
   ]
  },
  {
   "cell_type": "code",
   "execution_count": null,
   "metadata": {},
   "outputs": [],
   "source": [
    "import pandas as pd\n",
    "\n",
    "class_df = pd.read_csv('data/classes.csv')"
   ]
  },
  {
   "cell_type": "markdown",
   "metadata": {},
   "source": [
    "### Use Uppercase for Constants"
   ]
  },
  {
   "cell_type": "code",
   "execution_count": null,
   "metadata": {},
   "outputs": [],
   "source": [
    "MONTHLY_INTEREST_RATE = 0.01\n",
    "GROWTH_FACTOR = 1 + MONTHLY_INTEREST_RATE\n",
    "MAX_LOAN_AMOUNT = 1000000\n",
    "MAX_LOAN_TERM = 30\n",
    "\n",
    "def calculate_loan_payment(principal, years):\n",
    "    num_payments = years * 12\n",
    "    if principal > MAX_LOAN_AMOUNT:\n",
    "        return \"Loan amount too high\"\n",
    "    if years > MAX_LOAN_TERM:\n",
    "        return \"Term too long\"\n",
    "    return (\n",
    "        principal\n",
    "        * (MONTHLY_INTEREST_RATE * GROWTH_FACTOR**num_payments)\n",
    "        / (GROWTH_FACTOR**num_payments - 1)\n",
    "    )"
   ]
  },
  {
   "cell_type": "markdown",
   "metadata": {},
   "source": [
    "### Use Plural Nouns for Collections"
   ]
  },
  {
   "cell_type": "code",
   "execution_count": null,
   "metadata": {},
   "outputs": [],
   "source": [
    "# Problematic use of singular nouns for collections\n",
    "city = ['New York', 'London', 'Tokyo', 'Paris', 'Sydney']\n",
    "\n",
    "if city == 'New York':\n",
    "    # This won't work as expected if city is a list\n",
    "    print(\"Big Apple!\")"
   ]
  },
  {
   "cell_type": "code",
   "execution_count": null,
   "metadata": {},
   "outputs": [],
   "source": [
    "# Improved code using plural nouns for collections\n",
    "cities = ['New York', 'London', 'Tokyo', 'Paris', 'Sydney']\n",
    "\n",
    "if 'New York' in cities:\n",
    "    print(\"Big Apple!\")"
   ]
  },
  {
   "cell_type": "markdown",
   "metadata": {},
   "source": [
    "### Name Slice Indices"
   ]
  },
  {
   "cell_type": "code",
   "execution_count": null,
   "metadata": {},
   "outputs": [],
   "source": [
    "prices = [5, 3, 5, 4, 5, 3, 3.5, 3]\n",
    "\n",
    "price_diff = sum(prices[:4]) - sum(prices[4:])\n",
    "print(price_diff)"
   ]
  },
  {
   "cell_type": "code",
   "execution_count": null,
   "metadata": {},
   "outputs": [],
   "source": [
    "prices = [5, 3, 5, 4, 5, 3, 3.5, 3]\n",
    "\n",
    "# Create slice objects to represent specific ranges\n",
    "JANUARY = slice(0, 4)  # First 4 elements\n",
    "FEBRUARY = slice(4, len(prices))  # Remaining elements\n",
    "\n",
    "price_diff = sum(prices[JANUARY]) - sum(prices[FEBRUARY])\n",
    "print(f\"Price difference between January and February: {price_diff}\")"
   ]
  },
  {
   "cell_type": "markdown",
   "metadata": {},
   "source": [
    "### Use Underscore for Throwaway Variables"
   ]
  },
  {
   "cell_type": "code",
   "execution_count": null,
   "metadata": {},
   "outputs": [],
   "source": [
    "import os\n",
    "\n",
    "full_path = '/home/user/data/project/data.csv'\n",
    "\n",
    "# Split the path into directory and filename\n",
    "directory, filename = os.path.split(full_path)\n",
    "\n",
    "# Add a new file to directory\n",
    "new_file_name = 'new_data.csv'\n",
    "new_file_path = os.path.join(directory, new_file_name)\n",
    "\n",
    "print(new_file_path)"
   ]
  },
  {
   "cell_type": "code",
   "execution_count": null,
   "metadata": {},
   "outputs": [],
   "source": [
    "import os\n",
    "\n",
    "full_path = '/home/user/data/project/data.csv'\n",
    "\n",
    "# Split the path into directory and filename\n",
    "directory, _ = os.path.split(full_path)\n",
    "\n",
    "# Add a new file to directory\n",
    "new_file_name = 'new_data.csv'\n",
    "new_file_path = os.path.join(directory, new_file_name)\n",
    "\n",
    "print(new_file_path)"
   ]
  },
  {
   "cell_type": "markdown",
   "metadata": {},
   "source": [
    "### Signal Private Variables with Underscores"
   ]
  },
  {
   "cell_type": "code",
   "execution_count": null,
   "metadata": {},
   "outputs": [],
   "source": [
    "class Bank:\n",
    "    def __init__(self, account_number, initial_balance):\n",
    "        self.account_number = account_number\n",
    "        self.balance = initial_balance\n",
    "\n",
    "# Bad: Accessing the balance directly from outside the class\n",
    "bank_account = Bank(\"123456789\", 200)\n",
    "print(f\"Initial balance: {bank_account.balance}\")\n",
    "\n",
    "# Bad: Modifying the balance directly from outside the class\n",
    "bank_account.balance += 500\n",
    "print(f\"Balance after deposit: {bank_account.balance}\")"
   ]
  },
  {
   "cell_type": "code",
   "execution_count": null,
   "metadata": {},
   "outputs": [],
   "source": [
    "class Bank:\n",
    "    def __init__(self, account_number, initial_balance):\n",
    "        self.account_number = account_number\n",
    "        self._balance = initial_balance  # Private variable\n",
    "\n",
    "    def get_balance(self):\n",
    "        return self._balance\n",
    "\n",
    "\n",
    "bank_account = Bank(\"123456789\", 200)\n",
    "print(f\"Initial balance: {bank_account.get_balance()}\")"
   ]
  },
  {
   "cell_type": "markdown",
   "metadata": {},
   "source": [
    "### Avoid Variable Repurposing"
   ]
  },
  {
   "cell_type": "code",
   "execution_count": null,
   "metadata": {},
   "outputs": [],
   "source": [
    "import pandas as pd\n",
    "\n",
    "# Problematic code with variable repurposing\n",
    "df = pd.DataFrame({\"a\": [1, 2, 3], \"b\": [4, 5, 6]})\n",
    "df = df.assign(c=lambda x: x[\"a\"] + x[\"b\"])  # has a new column\n",
    "df = df[df[\"c\"] > 5]  # df now has filtered rows\n",
    "df = df.drop(\"b\", axis=1)  # df now has different columns\n",
    "\n",
    "# What's in df now? It's hard to tell without checking each step"
   ]
  },
  {
   "cell_type": "code",
   "execution_count": null,
   "metadata": {},
   "outputs": [],
   "source": [
    "import pandas as pd\n",
    "\n",
    "# Improved code with distinct variables\n",
    "original_df = pd.DataFrame({\"a\": [1, 2, 3], \"b\": [4, 5, 6]})\n",
    "df_with_sum = original_df.assign(c=lambda x: x[\"a\"] + x[\"b\"])\n",
    "filtered_df = df_with_sum[df_with_sum[\"c\"] > 5]\n",
    "final_df = filtered_df.drop(\"b\", axis=1)"
   ]
  }
 ],
 "metadata": {
  "kernelspec": {
   "display_name": "Python 3",
   "language": "python",
   "name": "python3"
  },
  "language_info": {
   "codemirror_mode": {
    "name": "ipython",
    "version": 3
   },
   "file_extension": ".py",
   "mimetype": "text/x-python",
   "name": "python",
   "nbconvert_exporter": "python",
   "pygments_lexer": "ipython3",
   "version": "3.8.5"
  }
 },
 "nbformat": 4,
 "nbformat_minor": 4
}