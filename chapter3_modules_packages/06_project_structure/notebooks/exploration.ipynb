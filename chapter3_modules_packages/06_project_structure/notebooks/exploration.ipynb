{
 "cells": [
  {
   "cell_type": "markdown",
   "metadata": {},
   "source": [
    "# Data Exploration Notebook\n",
    "\n",
    "This notebook demonstrates how to use the data_pipeline package for exploratory data analysis."
   ]
  },
  {
   "cell_type": "code",
   "execution_count": null,
   "metadata": {},
   "outputs": [],
   "source": [
    "# Import the data_pipeline package\n",
    "from data_pipeline.data import load_data, preprocess_data\n",
    "from data_pipeline.utils import create_summary\n",
    "\n",
    "import pandas as pd\n",
    "import matplotlib.pyplot as plt"
   ]
  },
  {
   "cell_type": "code",
   "execution_count": null,
   "metadata": {},
   "outputs": [],
   "source": [
    "# Load the sample data\n",
    "data = load_data(\"sample_data.csv\")\n",
    "print(f\"Loaded data shape: {data.shape}\")\n",
    "data.head()"
   ]
  },
  {
   "cell_type": "code",
   "execution_count": null,
   "metadata": {},
   "outputs": [],
   "source": [
    "# Create a data summary\n",
    "summary = create_summary(data)\n",
    "print(\"Data Summary:\")\n",
    "for key, value in summary.items():\n",
    "    if key != 'numeric_summary':  # Skip detailed numeric summary for brevity\n",
    "        print(f\"{key}: {value}\")"
   ]
  },
  {
   "cell_type": "code",
   "execution_count": null,
   "metadata": {},
   "outputs": [],
   "source": [
    "# Visualize the data\n",
    "fig, axes = plt.subplots(1, 2, figsize=(10, 4))\n",
    "\n",
    "# Feature distributions\n",
    "data[['feature1', 'feature2']].hist(ax=axes[0], bins=10)\n",
    "axes[0].set_title('Feature Distributions')\n",
    "\n",
    "# Target distribution\n",
    "data['target'].value_counts().plot(kind='bar', ax=axes[1])\n",
    "axes[1].set_title('Target Distribution')\n",
    "\n",
    "plt.tight_layout()\n",
    "plt.show()"
   ]
  }
 ],
 "metadata": {
  "kernelspec": {
   "display_name": "Python 3",
   "language": "python",
   "name": "python3"
  },
  "language_info": {
   "name": "python",
   "version": "3.8.0"
  }
 },
 "nbformat": 4,
 "nbformat_minor": 4
}