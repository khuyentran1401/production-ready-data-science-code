{
 "cells": [
  {
   "cell_type": "markdown",
   "metadata": {},
   "source": [
    "# Data Exploration Notebook\n",
    "\n",
    "This notebook demonstrates how to use the data_pipeline package for exploratory data analysis."
   ]
  },
  {
   "cell_type": "code",
   "execution_count": null,
   "metadata": {},
   "outputs": [],
   "source": "# Import libraries for data analysis\nimport pandas as pd\nimport matplotlib.pyplot as plt\nimport numpy as np"
  },
  {
   "cell_type": "code",
   "execution_count": null,
   "metadata": {},
   "outputs": [],
   "source": "# Create sample data for demonstration\nnp.random.seed(42)\ndata = pd.DataFrame({\n    'feature1': np.random.normal(100, 15, 1000),\n    'feature2': np.random.normal(50, 10, 1000),\n    'target': np.random.choice(['A', 'B', 'C'], 1000, p=[0.5, 0.3, 0.2])\n})\n\nprint(f\"Loaded data shape: {data.shape}\")\ndata.head()"
  },
  {
   "cell_type": "code",
   "execution_count": null,
   "metadata": {},
   "outputs": [],
   "source": "# Create a simple data summary\nprint(\"Data Summary:\")\nprint(f\"Total rows: {len(data)}\")\nprint(f\"Total columns: {len(data.columns)}\")\nprint(f\"Data types:\\n{data.dtypes}\")\nprint(f\"\\nNumeric features summary:\\n{data[['feature1', 'feature2']].describe()}\")\nprint(f\"\\nTarget distribution:\\n{data['target'].value_counts()}\")"
  },
  {
   "cell_type": "code",
   "execution_count": null,
   "metadata": {},
   "outputs": [],
   "source": [
    "# Visualize the data\n",
    "fig, axes = plt.subplots(1, 2, figsize=(10, 4))\n",
    "\n",
    "# Feature distributions\n",
    "data[['feature1', 'feature2']].hist(ax=axes[0], bins=10)\n",
    "axes[0].set_title('Feature Distributions')\n",
    "\n",
    "# Target distribution\n",
    "data['target'].value_counts().plot(kind='bar', ax=axes[1])\n",
    "axes[1].set_title('Target Distribution')\n",
    "\n",
    "plt.tight_layout()\n",
    "plt.show()"
   ]
  }
 ],
 "metadata": {
  "kernelspec": {
   "display_name": "Python 3",
   "language": "python",
   "name": "python3"
  },
  "language_info": {
   "name": "python",
   "version": "3.8.0"
  }
 },
 "nbformat": 4,
 "nbformat_minor": 4
}